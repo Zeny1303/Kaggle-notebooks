{
 "cells": [
  {
   "cell_type": "code",
   "execution_count": 1,
   "id": "6c26dce1",
   "metadata": {
    "_cell_guid": "b1076dfc-b9ad-4769-8c92-a6c4dae69d19",
    "_uuid": "8f2839f25d086af736a60e9eeb907d3b93b6e0e5",
    "execution": {
     "iopub.execute_input": "2025-08-01T16:54:59.000464Z",
     "iopub.status.busy": "2025-08-01T16:54:59.000027Z",
     "iopub.status.idle": "2025-08-01T16:55:01.228420Z",
     "shell.execute_reply": "2025-08-01T16:55:01.226887Z"
    },
    "papermill": {
     "duration": 2.235714,
     "end_time": "2025-08-01T16:55:01.230406",
     "exception": false,
     "start_time": "2025-08-01T16:54:58.994692",
     "status": "completed"
    },
    "tags": []
   },
   "outputs": [
    {
     "name": "stdout",
     "output_type": "stream",
     "text": [
      "/kaggle/input/titanic/train.csv\n",
      "/kaggle/input/titanic/test.csv\n",
      "/kaggle/input/titanic/gender_submission.csv\n"
     ]
    }
   ],
   "source": [
    "# This Python 3 environment comes with many helpful analytics libraries installed\n",
    "# It is defined by the kaggle/python Docker image: https://github.com/kaggle/docker-python\n",
    "# For example, here's several helpful packages to load\n",
    "\n",
    "import numpy as np # linear algebra\n",
    "import pandas as pd # data processing, CSV file I/O (e.g. pd.read_csv)\n",
    "\n",
    "# Input data files are available in the read-only \"../input/\" directory\n",
    "# For example, running this (by clicking run or pressing Shift+Enter) will list all files under the input directory\n",
    "\n",
    "import os\n",
    "for dirname, _, filenames in os.walk('/kaggle/input'):\n",
    "    for filename in filenames:\n",
    "        print(os.path.join(dirname, filename))\n",
    "\n",
    "# You can write up to 20GB to the current directory (/kaggle/working/) that gets preserved as output when you create a version using \"Save & Run All\" \n",
    "# You can also write temporary files to /kaggle/temp/, but they won't be saved outside of the current session"
   ]
  },
  {
   "cell_type": "code",
   "execution_count": 2,
   "id": "10e9f017",
   "metadata": {
    "execution": {
     "iopub.execute_input": "2025-08-01T16:55:01.241525Z",
     "iopub.status.busy": "2025-08-01T16:55:01.240413Z",
     "iopub.status.idle": "2025-08-01T16:55:01.271328Z",
     "shell.execute_reply": "2025-08-01T16:55:01.270286Z"
    },
    "papermill": {
     "duration": 0.038092,
     "end_time": "2025-08-01T16:55:01.273268",
     "exception": false,
     "start_time": "2025-08-01T16:55:01.235176",
     "status": "completed"
    },
    "tags": []
   },
   "outputs": [],
   "source": [
    "## Load training  data from input files\n",
    "training_data = pd.read_csv(\"/kaggle/input/titanic/train.csv\")"
   ]
  },
  {
   "cell_type": "code",
   "execution_count": 3,
   "id": "fd96cd55",
   "metadata": {
    "execution": {
     "iopub.execute_input": "2025-08-01T16:55:01.282062Z",
     "iopub.status.busy": "2025-08-01T16:55:01.281679Z",
     "iopub.status.idle": "2025-08-01T16:55:01.313228Z",
     "shell.execute_reply": "2025-08-01T16:55:01.312185Z"
    },
    "papermill": {
     "duration": 0.038208,
     "end_time": "2025-08-01T16:55:01.315236",
     "exception": false,
     "start_time": "2025-08-01T16:55:01.277028",
     "status": "completed"
    },
    "tags": []
   },
   "outputs": [
    {
     "data": {
      "text/html": [
       "<div>\n",
       "<style scoped>\n",
       "    .dataframe tbody tr th:only-of-type {\n",
       "        vertical-align: middle;\n",
       "    }\n",
       "\n",
       "    .dataframe tbody tr th {\n",
       "        vertical-align: top;\n",
       "    }\n",
       "\n",
       "    .dataframe thead th {\n",
       "        text-align: right;\n",
       "    }\n",
       "</style>\n",
       "<table border=\"1\" class=\"dataframe\">\n",
       "  <thead>\n",
       "    <tr style=\"text-align: right;\">\n",
       "      <th></th>\n",
       "      <th>PassengerId</th>\n",
       "      <th>Survived</th>\n",
       "      <th>Pclass</th>\n",
       "      <th>Name</th>\n",
       "      <th>Sex</th>\n",
       "      <th>Age</th>\n",
       "      <th>SibSp</th>\n",
       "      <th>Parch</th>\n",
       "      <th>Ticket</th>\n",
       "      <th>Fare</th>\n",
       "      <th>Cabin</th>\n",
       "      <th>Embarked</th>\n",
       "    </tr>\n",
       "  </thead>\n",
       "  <tbody>\n",
       "    <tr>\n",
       "      <th>0</th>\n",
       "      <td>1</td>\n",
       "      <td>0</td>\n",
       "      <td>3</td>\n",
       "      <td>Braund, Mr. Owen Harris</td>\n",
       "      <td>male</td>\n",
       "      <td>22.0</td>\n",
       "      <td>1</td>\n",
       "      <td>0</td>\n",
       "      <td>A/5 21171</td>\n",
       "      <td>7.2500</td>\n",
       "      <td>NaN</td>\n",
       "      <td>S</td>\n",
       "    </tr>\n",
       "    <tr>\n",
       "      <th>1</th>\n",
       "      <td>2</td>\n",
       "      <td>1</td>\n",
       "      <td>1</td>\n",
       "      <td>Cumings, Mrs. John Bradley (Florence Briggs Th...</td>\n",
       "      <td>female</td>\n",
       "      <td>38.0</td>\n",
       "      <td>1</td>\n",
       "      <td>0</td>\n",
       "      <td>PC 17599</td>\n",
       "      <td>71.2833</td>\n",
       "      <td>C85</td>\n",
       "      <td>C</td>\n",
       "    </tr>\n",
       "    <tr>\n",
       "      <th>2</th>\n",
       "      <td>3</td>\n",
       "      <td>1</td>\n",
       "      <td>3</td>\n",
       "      <td>Heikkinen, Miss. Laina</td>\n",
       "      <td>female</td>\n",
       "      <td>26.0</td>\n",
       "      <td>0</td>\n",
       "      <td>0</td>\n",
       "      <td>STON/O2. 3101282</td>\n",
       "      <td>7.9250</td>\n",
       "      <td>NaN</td>\n",
       "      <td>S</td>\n",
       "    </tr>\n",
       "    <tr>\n",
       "      <th>3</th>\n",
       "      <td>4</td>\n",
       "      <td>1</td>\n",
       "      <td>1</td>\n",
       "      <td>Futrelle, Mrs. Jacques Heath (Lily May Peel)</td>\n",
       "      <td>female</td>\n",
       "      <td>35.0</td>\n",
       "      <td>1</td>\n",
       "      <td>0</td>\n",
       "      <td>113803</td>\n",
       "      <td>53.1000</td>\n",
       "      <td>C123</td>\n",
       "      <td>S</td>\n",
       "    </tr>\n",
       "    <tr>\n",
       "      <th>4</th>\n",
       "      <td>5</td>\n",
       "      <td>0</td>\n",
       "      <td>3</td>\n",
       "      <td>Allen, Mr. William Henry</td>\n",
       "      <td>male</td>\n",
       "      <td>35.0</td>\n",
       "      <td>0</td>\n",
       "      <td>0</td>\n",
       "      <td>373450</td>\n",
       "      <td>8.0500</td>\n",
       "      <td>NaN</td>\n",
       "      <td>S</td>\n",
       "    </tr>\n",
       "  </tbody>\n",
       "</table>\n",
       "</div>"
      ],
      "text/plain": [
       "   PassengerId  Survived  Pclass  \\\n",
       "0            1         0       3   \n",
       "1            2         1       1   \n",
       "2            3         1       3   \n",
       "3            4         1       1   \n",
       "4            5         0       3   \n",
       "\n",
       "                                                Name     Sex   Age  SibSp  \\\n",
       "0                            Braund, Mr. Owen Harris    male  22.0      1   \n",
       "1  Cumings, Mrs. John Bradley (Florence Briggs Th...  female  38.0      1   \n",
       "2                             Heikkinen, Miss. Laina  female  26.0      0   \n",
       "3       Futrelle, Mrs. Jacques Heath (Lily May Peel)  female  35.0      1   \n",
       "4                           Allen, Mr. William Henry    male  35.0      0   \n",
       "\n",
       "   Parch            Ticket     Fare Cabin Embarked  \n",
       "0      0         A/5 21171   7.2500   NaN        S  \n",
       "1      0          PC 17599  71.2833   C85        C  \n",
       "2      0  STON/O2. 3101282   7.9250   NaN        S  \n",
       "3      0            113803  53.1000  C123        S  \n",
       "4      0            373450   8.0500   NaN        S  "
      ]
     },
     "execution_count": 3,
     "metadata": {},
     "output_type": "execute_result"
    }
   ],
   "source": [
    "# Display the first 5 rows of the training dataset\n",
    "training_data.head()"
   ]
  },
  {
   "cell_type": "code",
   "execution_count": 4,
   "id": "fc08faf6",
   "metadata": {
    "execution": {
     "iopub.execute_input": "2025-08-01T16:55:01.324624Z",
     "iopub.status.busy": "2025-08-01T16:55:01.324142Z",
     "iopub.status.idle": "2025-08-01T16:55:01.335754Z",
     "shell.execute_reply": "2025-08-01T16:55:01.334585Z"
    },
    "papermill": {
     "duration": 0.018147,
     "end_time": "2025-08-01T16:55:01.337550",
     "exception": false,
     "start_time": "2025-08-01T16:55:01.319403",
     "status": "completed"
    },
    "tags": []
   },
   "outputs": [],
   "source": [
    "#  Load testing data from input files\n",
    "testing_data = pd.read_csv(\"/kaggle/input/titanic/test.csv\")"
   ]
  },
  {
   "cell_type": "code",
   "execution_count": 5,
   "id": "925f48a4",
   "metadata": {
    "execution": {
     "iopub.execute_input": "2025-08-01T16:55:01.346925Z",
     "iopub.status.busy": "2025-08-01T16:55:01.346181Z",
     "iopub.status.idle": "2025-08-01T16:55:01.361100Z",
     "shell.execute_reply": "2025-08-01T16:55:01.359894Z"
    },
    "papermill": {
     "duration": 0.021241,
     "end_time": "2025-08-01T16:55:01.362776",
     "exception": false,
     "start_time": "2025-08-01T16:55:01.341535",
     "status": "completed"
    },
    "tags": []
   },
   "outputs": [
    {
     "data": {
      "text/html": [
       "<div>\n",
       "<style scoped>\n",
       "    .dataframe tbody tr th:only-of-type {\n",
       "        vertical-align: middle;\n",
       "    }\n",
       "\n",
       "    .dataframe tbody tr th {\n",
       "        vertical-align: top;\n",
       "    }\n",
       "\n",
       "    .dataframe thead th {\n",
       "        text-align: right;\n",
       "    }\n",
       "</style>\n",
       "<table border=\"1\" class=\"dataframe\">\n",
       "  <thead>\n",
       "    <tr style=\"text-align: right;\">\n",
       "      <th></th>\n",
       "      <th>PassengerId</th>\n",
       "      <th>Pclass</th>\n",
       "      <th>Name</th>\n",
       "      <th>Sex</th>\n",
       "      <th>Age</th>\n",
       "      <th>SibSp</th>\n",
       "      <th>Parch</th>\n",
       "      <th>Ticket</th>\n",
       "      <th>Fare</th>\n",
       "      <th>Cabin</th>\n",
       "      <th>Embarked</th>\n",
       "    </tr>\n",
       "  </thead>\n",
       "  <tbody>\n",
       "    <tr>\n",
       "      <th>0</th>\n",
       "      <td>892</td>\n",
       "      <td>3</td>\n",
       "      <td>Kelly, Mr. James</td>\n",
       "      <td>male</td>\n",
       "      <td>34.5</td>\n",
       "      <td>0</td>\n",
       "      <td>0</td>\n",
       "      <td>330911</td>\n",
       "      <td>7.8292</td>\n",
       "      <td>NaN</td>\n",
       "      <td>Q</td>\n",
       "    </tr>\n",
       "    <tr>\n",
       "      <th>1</th>\n",
       "      <td>893</td>\n",
       "      <td>3</td>\n",
       "      <td>Wilkes, Mrs. James (Ellen Needs)</td>\n",
       "      <td>female</td>\n",
       "      <td>47.0</td>\n",
       "      <td>1</td>\n",
       "      <td>0</td>\n",
       "      <td>363272</td>\n",
       "      <td>7.0000</td>\n",
       "      <td>NaN</td>\n",
       "      <td>S</td>\n",
       "    </tr>\n",
       "    <tr>\n",
       "      <th>2</th>\n",
       "      <td>894</td>\n",
       "      <td>2</td>\n",
       "      <td>Myles, Mr. Thomas Francis</td>\n",
       "      <td>male</td>\n",
       "      <td>62.0</td>\n",
       "      <td>0</td>\n",
       "      <td>0</td>\n",
       "      <td>240276</td>\n",
       "      <td>9.6875</td>\n",
       "      <td>NaN</td>\n",
       "      <td>Q</td>\n",
       "    </tr>\n",
       "    <tr>\n",
       "      <th>3</th>\n",
       "      <td>895</td>\n",
       "      <td>3</td>\n",
       "      <td>Wirz, Mr. Albert</td>\n",
       "      <td>male</td>\n",
       "      <td>27.0</td>\n",
       "      <td>0</td>\n",
       "      <td>0</td>\n",
       "      <td>315154</td>\n",
       "      <td>8.6625</td>\n",
       "      <td>NaN</td>\n",
       "      <td>S</td>\n",
       "    </tr>\n",
       "    <tr>\n",
       "      <th>4</th>\n",
       "      <td>896</td>\n",
       "      <td>3</td>\n",
       "      <td>Hirvonen, Mrs. Alexander (Helga E Lindqvist)</td>\n",
       "      <td>female</td>\n",
       "      <td>22.0</td>\n",
       "      <td>1</td>\n",
       "      <td>1</td>\n",
       "      <td>3101298</td>\n",
       "      <td>12.2875</td>\n",
       "      <td>NaN</td>\n",
       "      <td>S</td>\n",
       "    </tr>\n",
       "  </tbody>\n",
       "</table>\n",
       "</div>"
      ],
      "text/plain": [
       "   PassengerId  Pclass                                          Name     Sex  \\\n",
       "0          892       3                              Kelly, Mr. James    male   \n",
       "1          893       3              Wilkes, Mrs. James (Ellen Needs)  female   \n",
       "2          894       2                     Myles, Mr. Thomas Francis    male   \n",
       "3          895       3                              Wirz, Mr. Albert    male   \n",
       "4          896       3  Hirvonen, Mrs. Alexander (Helga E Lindqvist)  female   \n",
       "\n",
       "    Age  SibSp  Parch   Ticket     Fare Cabin Embarked  \n",
       "0  34.5      0      0   330911   7.8292   NaN        Q  \n",
       "1  47.0      1      0   363272   7.0000   NaN        S  \n",
       "2  62.0      0      0   240276   9.6875   NaN        Q  \n",
       "3  27.0      0      0   315154   8.6625   NaN        S  \n",
       "4  22.0      1      1  3101298  12.2875   NaN        S  "
      ]
     },
     "execution_count": 5,
     "metadata": {},
     "output_type": "execute_result"
    }
   ],
   "source": [
    "# Display the first 5 rows of the test dataset\n",
    "testing_data.head()"
   ]
  },
  {
   "cell_type": "code",
   "execution_count": 6,
   "id": "1aa50ad9",
   "metadata": {
    "execution": {
     "iopub.execute_input": "2025-08-01T16:55:01.371859Z",
     "iopub.status.busy": "2025-08-01T16:55:01.371556Z",
     "iopub.status.idle": "2025-08-01T16:55:01.380524Z",
     "shell.execute_reply": "2025-08-01T16:55:01.379475Z"
    },
    "papermill": {
     "duration": 0.015474,
     "end_time": "2025-08-01T16:55:01.382223",
     "exception": false,
     "start_time": "2025-08-01T16:55:01.366749",
     "status": "completed"
    },
    "tags": []
   },
   "outputs": [],
   "source": [
    "# Load the gender_submission file which contains a sample submission format\n",
    "gender_submission = pd.read_csv(\"/kaggle/input/titanic/gender_submission.csv\")"
   ]
  },
  {
   "cell_type": "code",
   "execution_count": 7,
   "id": "534165b0",
   "metadata": {
    "execution": {
     "iopub.execute_input": "2025-08-01T16:55:01.392270Z",
     "iopub.status.busy": "2025-08-01T16:55:01.391961Z",
     "iopub.status.idle": "2025-08-01T16:55:01.400749Z",
     "shell.execute_reply": "2025-08-01T16:55:01.399701Z"
    },
    "papermill": {
     "duration": 0.016205,
     "end_time": "2025-08-01T16:55:01.402532",
     "exception": false,
     "start_time": "2025-08-01T16:55:01.386327",
     "status": "completed"
    },
    "tags": []
   },
   "outputs": [
    {
     "data": {
      "text/html": [
       "<div>\n",
       "<style scoped>\n",
       "    .dataframe tbody tr th:only-of-type {\n",
       "        vertical-align: middle;\n",
       "    }\n",
       "\n",
       "    .dataframe tbody tr th {\n",
       "        vertical-align: top;\n",
       "    }\n",
       "\n",
       "    .dataframe thead th {\n",
       "        text-align: right;\n",
       "    }\n",
       "</style>\n",
       "<table border=\"1\" class=\"dataframe\">\n",
       "  <thead>\n",
       "    <tr style=\"text-align: right;\">\n",
       "      <th></th>\n",
       "      <th>PassengerId</th>\n",
       "      <th>Survived</th>\n",
       "    </tr>\n",
       "  </thead>\n",
       "  <tbody>\n",
       "    <tr>\n",
       "      <th>0</th>\n",
       "      <td>892</td>\n",
       "      <td>0</td>\n",
       "    </tr>\n",
       "    <tr>\n",
       "      <th>1</th>\n",
       "      <td>893</td>\n",
       "      <td>1</td>\n",
       "    </tr>\n",
       "    <tr>\n",
       "      <th>2</th>\n",
       "      <td>894</td>\n",
       "      <td>0</td>\n",
       "    </tr>\n",
       "    <tr>\n",
       "      <th>3</th>\n",
       "      <td>895</td>\n",
       "      <td>0</td>\n",
       "    </tr>\n",
       "    <tr>\n",
       "      <th>4</th>\n",
       "      <td>896</td>\n",
       "      <td>1</td>\n",
       "    </tr>\n",
       "  </tbody>\n",
       "</table>\n",
       "</div>"
      ],
      "text/plain": [
       "   PassengerId  Survived\n",
       "0          892         0\n",
       "1          893         1\n",
       "2          894         0\n",
       "3          895         0\n",
       "4          896         1"
      ]
     },
     "execution_count": 7,
     "metadata": {},
     "output_type": "execute_result"
    }
   ],
   "source": [
    "# Preview the gender submission file\n",
    "gender_submission.head()"
   ]
  },
  {
   "cell_type": "code",
   "execution_count": 8,
   "id": "8eb7b844",
   "metadata": {
    "execution": {
     "iopub.execute_input": "2025-08-01T16:55:01.412113Z",
     "iopub.status.busy": "2025-08-01T16:55:01.411769Z",
     "iopub.status.idle": "2025-08-01T16:55:01.425500Z",
     "shell.execute_reply": "2025-08-01T16:55:01.424465Z"
    },
    "papermill": {
     "duration": 0.020477,
     "end_time": "2025-08-01T16:55:01.427274",
     "exception": false,
     "start_time": "2025-08-01T16:55:01.406797",
     "status": "completed"
    },
    "tags": []
   },
   "outputs": [
    {
     "name": "stdout",
     "output_type": "stream",
     "text": [
      "314\n"
     ]
    }
   ],
   "source": [
    "women = training_data.loc[training_data.Sex == 'female'][\"Survived\"]\n",
    "print(len(women)) # len(women) (314) represents the total number of female passengers."
   ]
  },
  {
   "cell_type": "code",
   "execution_count": 9,
   "id": "129aa3a4",
   "metadata": {
    "execution": {
     "iopub.execute_input": "2025-08-01T16:55:01.437715Z",
     "iopub.status.busy": "2025-08-01T16:55:01.437330Z",
     "iopub.status.idle": "2025-08-01T16:55:01.443031Z",
     "shell.execute_reply": "2025-08-01T16:55:01.441807Z"
    },
    "papermill": {
     "duration": 0.012996,
     "end_time": "2025-08-01T16:55:01.444620",
     "exception": false,
     "start_time": "2025-08-01T16:55:01.431624",
     "status": "completed"
    },
    "tags": []
   },
   "outputs": [
    {
     "name": "stdout",
     "output_type": "stream",
     "text": [
      "233\n"
     ]
    }
   ],
   "source": [
    "print(sum(women)) # sum(women) (233) represents the number of female passengers who survived."
   ]
  },
  {
   "cell_type": "code",
   "execution_count": 10,
   "id": "fbd329db",
   "metadata": {
    "execution": {
     "iopub.execute_input": "2025-08-01T16:55:01.454076Z",
     "iopub.status.busy": "2025-08-01T16:55:01.453772Z",
     "iopub.status.idle": "2025-08-01T16:55:01.459460Z",
     "shell.execute_reply": "2025-08-01T16:55:01.458214Z"
    },
    "papermill": {
     "duration": 0.012367,
     "end_time": "2025-08-01T16:55:01.461224",
     "exception": false,
     "start_time": "2025-08-01T16:55:01.448857",
     "status": "completed"
    },
    "tags": []
   },
   "outputs": [
    {
     "name": "stdout",
     "output_type": "stream",
     "text": [
      "Percentage of women who survived: 0.7420382165605095\n"
     ]
    }
   ],
   "source": [
    "rate_women = sum(women)/len(women)\n",
    "\n",
    "print(\"Percentage of women who survived:\", rate_women)"
   ]
  },
  {
   "cell_type": "code",
   "execution_count": 11,
   "id": "ea99a1a7",
   "metadata": {
    "execution": {
     "iopub.execute_input": "2025-08-01T16:55:01.473343Z",
     "iopub.status.busy": "2025-08-01T16:55:01.473024Z",
     "iopub.status.idle": "2025-08-01T16:55:01.481004Z",
     "shell.execute_reply": "2025-08-01T16:55:01.479804Z"
    },
    "papermill": {
     "duration": 0.017098,
     "end_time": "2025-08-01T16:55:01.482748",
     "exception": false,
     "start_time": "2025-08-01T16:55:01.465650",
     "status": "completed"
    },
    "tags": []
   },
   "outputs": [
    {
     "name": "stdout",
     "output_type": "stream",
     "text": [
      "Percentage of men who survived: 0.18890814558058924\n"
     ]
    }
   ],
   "source": [
    "men = training_data.loc[training_data.Sex == 'male'][\"Survived\"]\n",
    "rate_men = sum(men)/len(men)\n",
    "\n",
    "print(\"Percentage of men who survived:\", rate_men)"
   ]
  },
  {
   "cell_type": "code",
   "execution_count": 12,
   "id": "78d5e050",
   "metadata": {
    "execution": {
     "iopub.execute_input": "2025-08-01T16:55:01.492946Z",
     "iopub.status.busy": "2025-08-01T16:55:01.492144Z",
     "iopub.status.idle": "2025-08-01T16:55:03.854073Z",
     "shell.execute_reply": "2025-08-01T16:55:03.853050Z"
    },
    "papermill": {
     "duration": 2.368791,
     "end_time": "2025-08-01T16:55:03.855865",
     "exception": false,
     "start_time": "2025-08-01T16:55:01.487074",
     "status": "completed"
    },
    "tags": []
   },
   "outputs": [],
   "source": [
    "from sklearn.ensemble import RandomForestClassifier"
   ]
  },
  {
   "cell_type": "code",
   "execution_count": 13,
   "id": "a8877a38",
   "metadata": {
    "execution": {
     "iopub.execute_input": "2025-08-01T16:55:03.866618Z",
     "iopub.status.busy": "2025-08-01T16:55:03.866133Z",
     "iopub.status.idle": "2025-08-01T16:55:04.056267Z",
     "shell.execute_reply": "2025-08-01T16:55:04.055115Z"
    },
    "papermill": {
     "duration": 0.197446,
     "end_time": "2025-08-01T16:55:04.058282",
     "exception": false,
     "start_time": "2025-08-01T16:55:03.860836",
     "status": "completed"
    },
    "tags": []
   },
   "outputs": [],
   "source": [
    "y = training_data[\"Survived\"]\n",
    "features = [\"Pclass\",\"Sex\",\"SibSp\",\"Parch\"]\n",
    "X= pd.get_dummies(training_data[features])\n",
    "X_test = pd.get_dummies(testing_data[features])\n",
    "model = RandomForestClassifier(n_estimators=100, max_depth=5, random_state=1)\n",
    "model.fit(X, y)\n",
    "predictions = model.predict(X_test)\n",
    "\n"
   ]
  },
  {
   "cell_type": "code",
   "execution_count": 14,
   "id": "ced0abb3",
   "metadata": {
    "execution": {
     "iopub.execute_input": "2025-08-01T16:55:04.069815Z",
     "iopub.status.busy": "2025-08-01T16:55:04.068688Z",
     "iopub.status.idle": "2025-08-01T16:55:04.082501Z",
     "shell.execute_reply": "2025-08-01T16:55:04.081067Z"
    },
    "papermill": {
     "duration": 0.021481,
     "end_time": "2025-08-01T16:55:04.084463",
     "exception": false,
     "start_time": "2025-08-01T16:55:04.062982",
     "status": "completed"
    },
    "tags": []
   },
   "outputs": [
    {
     "name": "stdout",
     "output_type": "stream",
     "text": [
      "Your submission was successfully saved!\n"
     ]
    }
   ],
   "source": [
    "# Create a submission DataFrame in the required format: PassengerId and Survived\n",
    "output = pd.DataFrame({\n",
    "    'PassengerId': testing_data.PassengerId,\n",
    "    'Survived': predictions})\n",
    "\n",
    "# Save the submission file\n",
    "output.to_csv('submission.csv', index=False)\n",
    "print(\"Your submission was successfully saved!\")"
   ]
  }
 ],
 "metadata": {
  "kaggle": {
   "accelerator": "none",
   "dataSources": [
    {
     "databundleVersionId": 26502,
     "sourceId": 3136,
     "sourceType": "competition"
    }
   ],
   "dockerImageVersionId": 31089,
   "isGpuEnabled": false,
   "isInternetEnabled": true,
   "language": "python",
   "sourceType": "notebook"
  },
  "kernelspec": {
   "display_name": "Python 3",
   "language": "python",
   "name": "python3"
  },
  "language_info": {
   "codemirror_mode": {
    "name": "ipython",
    "version": 3
   },
   "file_extension": ".py",
   "mimetype": "text/x-python",
   "name": "python",
   "nbconvert_exporter": "python",
   "pygments_lexer": "ipython3",
   "version": "3.11.13"
  },
  "papermill": {
   "default_parameters": {},
   "duration": 11.355176,
   "end_time": "2025-08-01T16:55:04.709446",
   "environment_variables": {},
   "exception": null,
   "input_path": "__notebook__.ipynb",
   "output_path": "__notebook__.ipynb",
   "parameters": {},
   "start_time": "2025-08-01T16:54:53.354270",
   "version": "2.6.0"
  }
 },
 "nbformat": 4,
 "nbformat_minor": 5
}
